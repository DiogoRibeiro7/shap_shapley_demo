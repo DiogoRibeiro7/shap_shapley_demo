{
 "cells": [
  {
   "cell_type": "markdown",
   "metadata": {},
   "source": [
    "# SHAP Classification Demo (Python ≥ 3.10)\n",
    "This notebook demonstrates how to interpret a Random Forest classifier using SHAP values."
   ]
  },
  {
   "cell_type": "code",
   "metadata": {},
   "source": [
    "import shap\n",
    "import numpy as np\n",
    "import pandas as pd\n",
    "import matplotlib.pyplot as plt\n",
    "from sklearn.datasets import load_breast_cancer\n",
    "from sklearn.model_selection import train_test_split\n",
    "from sklearn.ensemble import RandomForestClassifier\n",
    "from scipy.special import expit"
   ]
  },
  {
   "cell_type": "markdown",
   "metadata": {},
   "source": [
    "## Load Dataset"
   ]
  },
  {
   "cell_type": "code",
   "metadata": {},
   "source": [
    "data = load_breast_cancer(as_frame=True)\n",
    "X = data.data\n",
    "y = data.target\n",
    "X_train, X_test, y_train, y_test = train_test_split(X, y, test_size=0.2, random_state=42)"
   ]
  },
  {
   "cell_type": "markdown",
   "metadata": {},
   "source": [
    "## Train Model"
   ]
  },
  {
   "cell_type": "code",
   "metadata": {},
   "source": [
    "model = RandomForestClassifier(n_estimators=100, max_depth=5, random_state=42)\n",
    "model.fit(X_train, y_train)\n",
    "print(f'Accuracy: {model.score(X_test, y_test):.3f}')"
   ]
  },
  {
   "cell_type": "markdown",
   "metadata": {},
   "source": [
    "## Create SHAP Explainer with Custom Baseline"
   ]
  },
  {
   "cell_type": "code",
   "metadata": {},
   "source": [
    "background = shap.utils.sample(X_train, 100, random_state=42)\n",
    "explainer = shap.TreeExplainer(model, data=background, feature_perturbation='interventional')\n",
    "shap_values = explainer(X_test)\n",
    "print('Expected value:', explainer.expected_value)"
   ]
  },
  {
   "cell_type": "markdown",
   "metadata": {},
   "source": [
    "## Local Explanation for One Observation"
   ]
  },
  {
   "cell_type": "code",
   "metadata": {},
   "source": [
    "i = 0\n",
    "shap_values_class1 = shap_values[..., 1]\n",
    "proba = model.predict_proba(X_test.iloc[i:i+1])[0, 1]\n",
    "print(f'Predicted probability for malignant: {proba:.3f}')\n",
    "shap.plots.waterfall(shap_values_class1[i])"
   ]
  },
  {
   "cell_type": "markdown",
   "metadata": {},
   "source": [
    "## Global Feature Importance"
   ]
  },
  {
   "cell_type": "code",
   "metadata": {},
   "source": [
    "shap.summary_plot(shap_values_class1, X_test, feature_names=X_test.columns)"
   ]
  },
  {
   "cell_type": "markdown",
   "metadata": {},
   "source": [
    "## Dependence Plot"
   ]
  },
  {
   "cell_type": "code",
   "metadata": {},
   "source": [
    "shap.dependence_plot('mean radius', shap_values_class1.values, X_test)"
   ]
  },
  {
   "cell_type": "markdown",
   "metadata": {},
   "source": [
    "## Reconstruct Probability from SHAP Log-Odds"
   ]
  },
  {
   "cell_type": "code",
   "metadata": {},
   "source": [
    "from scipy.special import expit\n",
    "log_odds = explainer.expected_value[1] + shap_values_class1[i].values.sum()\n",
    "print('Reconstructed probability:', expit(log_odds))"
   ]
  }
 ],
 "metadata": {
  "kernelspec": {
   "display_name": "python3",
   "language": "python",
   "name": "python3"
  },
  "language_info": {
   "name": "python",
   "version": "3.10"
  }
 },
 "nbformat": 4,
 "nbformat_minor": 5
}
